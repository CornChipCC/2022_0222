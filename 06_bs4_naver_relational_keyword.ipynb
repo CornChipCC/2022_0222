{
 "cells": [
  {
   "cell_type": "markdown",
   "id": "a39c9095",
   "metadata": {},
   "source": [
    "### 네이버 연관검색어 데이터 수집\n",
    "- 정적 페이지 : html(str) : BeautifulSoup : bs_obj.select(css-selector) : text"
   ]
  },
  {
   "cell_type": "code",
   "execution_count": 2,
   "id": "233ae349",
   "metadata": {},
   "outputs": [],
   "source": [
    "import requests\n",
    "import pandas as pd\n",
    "from bs4 import BeautifulSoup"
   ]
  },
  {
   "cell_type": "code",
   "execution_count": null,
   "id": "23e8fab1",
   "metadata": {},
   "outputs": [],
   "source": [
    "# 1. 웹서비스 분석: url"
   ]
  },
  {
   "cell_type": "code",
   "execution_count": 32,
   "id": "cdd2aaba",
   "metadata": {},
   "outputs": [
    {
     "name": "stdout",
     "output_type": "stream",
     "text": [
      "https://search.naver.com/search.naver?8&query=삼성전자\n"
     ]
    }
   ],
   "source": [
    "keyword = \"삼성전자\"\n",
    "url = f\"https://search.naver.com/search.naver?8&query={keyword}\"\n",
    "print(url)"
   ]
  },
  {
   "cell_type": "code",
   "execution_count": 33,
   "id": "afe9d303",
   "metadata": {},
   "outputs": [],
   "source": [
    "# 2. requests(url) > response(data) : data(html)\n",
    "# html문자열은 한페이지 모두"
   ]
  },
  {
   "cell_type": "code",
   "execution_count": 34,
   "id": "d8bc4e6c",
   "metadata": {},
   "outputs": [
    {
     "data": {
      "text/plain": [
       "<Response [200]>"
      ]
     },
     "execution_count": 34,
     "metadata": {},
     "output_type": "execute_result"
    }
   ],
   "source": [
    "response = requests.get(url)\n",
    "response"
   ]
  },
  {
   "cell_type": "code",
   "execution_count": 35,
   "id": "8aea1f00",
   "metadata": {},
   "outputs": [],
   "source": [
    "# 3. data(html) > bs_obj.select(css-selector) > text"
   ]
  },
  {
   "cell_type": "code",
   "execution_count": 36,
   "id": "9afcdf38",
   "metadata": {},
   "outputs": [],
   "source": [
    "dom = BeautifulSoup(response.text,\"html.parser\")"
   ]
  },
  {
   "cell_type": "code",
   "execution_count": 37,
   "id": "3b5af40a",
   "metadata": {},
   "outputs": [
    {
     "data": {
      "text/plain": [
       "bs4.BeautifulSoup"
      ]
     },
     "execution_count": 37,
     "metadata": {},
     "output_type": "execute_result"
    }
   ],
   "source": [
    "type(dom)"
   ]
  },
  {
   "cell_type": "code",
   "execution_count": 38,
   "id": "76414016",
   "metadata": {},
   "outputs": [],
   "source": [
    "# select() : 여러개의 엘리먼트 선택 : list : [Tag, Tag, Tag ...]\n",
    "# select_one() : 하나의 엘리먼트 선택 : Tag"
   ]
  },
  {
   "cell_type": "code",
   "execution_count": 39,
   "id": "8bc64f13",
   "metadata": {
    "scrolled": true
   },
   "outputs": [],
   "source": [
    "# li 엘리먼트 10개 선택"
   ]
  },
  {
   "cell_type": "code",
   "execution_count": 40,
   "id": "8c1ab04b",
   "metadata": {},
   "outputs": [
    {
     "data": {
      "text/plain": [
       "(10, bs4.element.Tag)"
      ]
     },
     "execution_count": 40,
     "metadata": {},
     "output_type": "execute_result"
    }
   ],
   "source": [
    "elements = dom.select(\".lst_related_srch > li\")\n",
    "len(elements), type(elements[0])"
   ]
  },
  {
   "cell_type": "code",
   "execution_count": 41,
   "id": "d4bfab47",
   "metadata": {},
   "outputs": [],
   "source": [
    "# 반복문으로 각각의 엘리먼트에서 text 추출"
   ]
  },
  {
   "cell_type": "code",
   "execution_count": 42,
   "id": "64901a28",
   "metadata": {},
   "outputs": [
    {
     "data": {
      "text/plain": [
       "'삼성전자 주가'"
      ]
     },
     "execution_count": 42,
     "metadata": {},
     "output_type": "execute_result"
    }
   ],
   "source": [
    "element = elements[0]\n",
    "keyword = element.select_one(\".tit\").text\n",
    "keyword"
   ]
  },
  {
   "cell_type": "code",
   "execution_count": 43,
   "id": "a4fb04a5",
   "metadata": {},
   "outputs": [
    {
     "data": {
      "text/plain": [
       "['삼성전자 주가',\n",
       " '삼성전자 배당금',\n",
       " '삼성전자 주식',\n",
       " '삼성전자 특별보너스',\n",
       " '삼성전자 배당금 지급일',\n",
       " '오늘 삼성전자 주가',\n",
       " '삼성전자 성과급',\n",
       " '삼성 전자레인지',\n",
       " '삼성전자 채용',\n",
       " '삼성전자 보너스']"
      ]
     },
     "execution_count": 43,
     "metadata": {},
     "output_type": "execute_result"
    }
   ],
   "source": [
    "keywords = [element.select_one(\".tit\").text for element in elements]\n",
    "keywords"
   ]
  },
  {
   "cell_type": "code",
   "execution_count": 44,
   "id": "251f9483",
   "metadata": {},
   "outputs": [],
   "source": [
    "def relational_keyword(keyword):\n",
    "    url = f\"https://search.naver.com/search.naver?8&query={keyword}\"\n",
    "    response = requests.get(url)\n",
    "    dom = BeautifulSoup(response.text,\"html.parser\")\n",
    "    elements = dom.select(\".lst_related_srch > li\")\n",
    "    keywords = [element.select_one(\".tit\").text for element in elements]\n",
    "    return keywords"
   ]
  },
  {
   "cell_type": "code",
   "execution_count": 45,
   "id": "e8063fb7",
   "metadata": {},
   "outputs": [
    {
     "data": {
      "text/plain": [
       "['천안 날씨',\n",
       " '천안 맛집',\n",
       " '천안 가볼만한곳',\n",
       " '천안 코로나',\n",
       " '천안 독립기념관',\n",
       " '천안 아파트',\n",
       " '천안 놀거리',\n",
       " '천안 인구수',\n",
       " '천안 인구',\n",
       " '천안 대학교']"
      ]
     },
     "execution_count": 45,
     "metadata": {},
     "output_type": "execute_result"
    }
   ],
   "source": [
    "relational_keyword(\"천안\")"
   ]
  },
  {
   "cell_type": "code",
   "execution_count": null,
   "id": "f9a72c13",
   "metadata": {},
   "outputs": [],
   "source": []
  },
  {
   "cell_type": "code",
   "execution_count": null,
   "id": "8b9235bb",
   "metadata": {},
   "outputs": [],
   "source": []
  },
  {
   "cell_type": "code",
   "execution_count": null,
   "id": "d122f945",
   "metadata": {},
   "outputs": [],
   "source": []
  },
  {
   "cell_type": "code",
   "execution_count": null,
   "id": "281c1073",
   "metadata": {},
   "outputs": [],
   "source": []
  }
 ],
 "metadata": {
  "kernelspec": {
   "display_name": "Python 3",
   "language": "python",
   "name": "python3"
  },
  "language_info": {
   "codemirror_mode": {
    "name": "ipython",
    "version": 3
   },
   "file_extension": ".py",
   "mimetype": "text/x-python",
   "name": "python",
   "nbconvert_exporter": "python",
   "pygments_lexer": "ipython3",
   "version": "3.8.8"
  }
 },
 "nbformat": 4,
 "nbformat_minor": 5
}
