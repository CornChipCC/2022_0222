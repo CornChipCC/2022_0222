{
 "cells": [
  {
   "cell_type": "markdown",
   "id": "4b1c9b3c",
   "metadata": {},
   "source": [
    "### 행정안전부 보도자료 데이터 수집\n",
    "- 정적페이지 데이터 수집 : html : bs, css-selector\n",
    "- post 방식\n",
    "- 여러개의 페이지 데이터 수집"
   ]
  },
  {
   "cell_type": "code",
   "execution_count": 1,
   "id": "f300796e",
   "metadata": {},
   "outputs": [],
   "source": [
    "import pandas as pd\n",
    "import requests\n",
    "from bs4 import BeautifulSoup"
   ]
  },
  {
   "cell_type": "code",
   "execution_count": 2,
   "id": "5101d9f3",
   "metadata": {},
   "outputs": [],
   "source": [
    "# 1. 웹서비스 분석 : url"
   ]
  },
  {
   "cell_type": "code",
   "execution_count": 5,
   "id": "88c50977",
   "metadata": {},
   "outputs": [],
   "source": [
    "page = 3\n",
    "url = \"https://mois.go.kr/frt/bbs/type010/commonSelectBoardList.do?bbsId=BBSMSTR_000000000008\"\n",
    "params = {\n",
    "    \"nttId\": \"0\",\n",
    "    \"bbsTyCode\": \"BBST03\",\n",
    "    \"bbsAttrbCode\": \"BBSA03\",\n",
    "    \"authFlag\": \"Y\",\n",
    "    \"pageIndex\": page,\n",
    "    \"cal_url\": \"/sym/cal/EgovNormalCalPopup.do\",\n",
    "    \"searchCnd\": \"0\",\n",
    "}"
   ]
  },
  {
   "cell_type": "code",
   "execution_count": 6,
   "id": "4ee46e64",
   "metadata": {},
   "outputs": [],
   "source": [
    "# 2. request(url) > response : html"
   ]
  },
  {
   "cell_type": "code",
   "execution_count": 7,
   "id": "b88c75f0",
   "metadata": {},
   "outputs": [
    {
     "data": {
      "text/plain": [
       "<Response [200]>"
      ]
     },
     "execution_count": 7,
     "metadata": {},
     "output_type": "execute_result"
    }
   ],
   "source": [
    "response = requests.post(url, params)\n",
    "response"
   ]
  },
  {
   "cell_type": "code",
   "execution_count": null,
   "id": "425fcef6",
   "metadata": {},
   "outputs": [],
   "source": [
    "# 3. html(str) > bs_obj > bs_obj.select(css-selector) > text > DataFrame"
   ]
  },
  {
   "cell_type": "code",
   "execution_count": 8,
   "id": "48b3b1e6",
   "metadata": {},
   "outputs": [],
   "source": [
    "dom = BeautifulSoup(response.text, \"html.parser\")"
   ]
  },
  {
   "cell_type": "code",
   "execution_count": 32,
   "id": "6e564ae2",
   "metadata": {},
   "outputs": [
    {
     "data": {
      "text/plain": [
       "<tr>\n",
       "<td class=\"res_hide\">\n",
       "\t\t\t\t\t\t\t\t12922\n",
       "\t\t\t\t\t\t\t</td>\n",
       "<td class=\"l\">\n",
       "<div class=\"wrap\">\n",
       "<a href=\"/frt/bbs/type010/commonSelectBoardArticle.do;jsessionid=q64WgJW5R+XsIddUXY-WZp62.node30?bbsId=BBSMSTR_000000000008&amp;nttId=90384\" onclick=\"javascript:fn_egov_inqire_notice('90384', 'BBSMSTR_000000000008'); return false;\">2022년 지방규제, 지역활력 제고에 초점 맞추기로 </a>\n",
       "</div>\n",
       "</td>\n",
       "<td class=\"res_hide\">\n",
       "<img alt=\"첨부파일\" src=\"/images/board/icon_file.gif;jsessionid=q64WgJW5R+XsIddUXY-WZp62.node30\"/>\n",
       "</td>\n",
       "<td class=\"res_hide\">\n",
       "\t\t\t\t\t\t\t\t지방규제혁신과\n",
       "\t\t\t\t\t\t\t</td>\n",
       "<td>\n",
       "\t\t\t\t\t\t\t\t2022.02.10.\n",
       "\t\t\t\t\t\t\t</td>\n",
       "<td class=\"res_hide\">\n",
       "\t\t\t\t\t\t\t\t1120\n",
       "\t\t\t\t\t\t\t</td>\n",
       "</tr>"
      ]
     },
     "execution_count": 32,
     "metadata": {},
     "output_type": "execute_result"
    }
   ],
   "source": [
    "# 게시글 리스트 데이터 선택 : 10개\n",
    "elements = dom.select(\"#print_area > div.table_wrap.type_01 > form > table > tbody > tr\")\n",
    "len(elements)\n",
    "element"
   ]
  },
  {
   "cell_type": "code",
   "execution_count": 10,
   "id": "57cdccfb",
   "metadata": {},
   "outputs": [],
   "source": [
    "# 각 데이터에서 필요한 정보 수집"
   ]
  },
  {
   "cell_type": "code",
   "execution_count": 19,
   "id": "09dffaed",
   "metadata": {},
   "outputs": [
    {
     "data": {
      "text/plain": [
       "{'no': '12931',\n",
       " 'title': '사이버대학 성적·졸업증명서도 모바일 전자증명서로 발급한다',\n",
       " 'writer': '공공지능정책과',\n",
       " 'data': '2022.02.15.',\n",
       " 'pv': '812',\n",
       " 'link': 'https://mois.go.kr/frt/bbs/type010/commonSelectBoardArticle.do;jsessionid=q64WgJW5R+XsIddUXY-WZp62.node30?bbsId=BBSMSTR_000000000008&nttId=90455'}"
      ]
     },
     "execution_count": 19,
     "metadata": {},
     "output_type": "execute_result"
    }
   ],
   "source": [
    "element = elements[0]\n",
    "\n",
    "data = {\n",
    "    \"no\" : element.select(\"td\")[0].text.strip(),\n",
    "    \"title\" : element.select(\"td\")[1].text.strip(),\n",
    "    \"writer\" : element.select(\"td\")[3].text.strip(),\n",
    "    \"data\" : element.select(\"td\")[4].text.strip(),\n",
    "    \"pv\" : element.select(\"td\")[5].text.strip(),\n",
    "    \"link\" : \"https://mois.go.kr\" + element.select(\"td\")[1].select_one(\"a\").get(\"href\"),\n",
    "}\n",
    "data"
   ]
  },
  {
   "cell_type": "code",
   "execution_count": 20,
   "id": "2eec3b9b",
   "metadata": {},
   "outputs": [],
   "source": [
    "#[{row1}, {row2}]"
   ]
  },
  {
   "cell_type": "code",
   "execution_count": 22,
   "id": "d91ba67c",
   "metadata": {},
   "outputs": [
    {
     "data": {
      "text/html": [
       "<div>\n",
       "<style scoped>\n",
       "    .dataframe tbody tr th:only-of-type {\n",
       "        vertical-align: middle;\n",
       "    }\n",
       "\n",
       "    .dataframe tbody tr th {\n",
       "        vertical-align: top;\n",
       "    }\n",
       "\n",
       "    .dataframe thead th {\n",
       "        text-align: right;\n",
       "    }\n",
       "</style>\n",
       "<table border=\"1\" class=\"dataframe\">\n",
       "  <thead>\n",
       "    <tr style=\"text-align: right;\">\n",
       "      <th></th>\n",
       "      <th>no</th>\n",
       "      <th>title</th>\n",
       "      <th>writer</th>\n",
       "      <th>data</th>\n",
       "      <th>pv</th>\n",
       "      <th>link</th>\n",
       "    </tr>\n",
       "  </thead>\n",
       "  <tbody>\n",
       "    <tr>\n",
       "      <th>0</th>\n",
       "      <td>12931</td>\n",
       "      <td>사이버대학 성적·졸업증명서도 모바일 전자증명서로 발급한다</td>\n",
       "      <td>공공지능정책과</td>\n",
       "      <td>2022.02.15.</td>\n",
       "      <td>812</td>\n",
       "      <td>https://mois.go.kr/frt/bbs/type010/commonSelec...</td>\n",
       "    </tr>\n",
       "    <tr>\n",
       "      <th>1</th>\n",
       "      <td>12930</td>\n",
       "      <td>2022 지방행정혁신, 주민이 체감하는 확실한 변화 만든다</td>\n",
       "      <td>지역사회혁신정책과</td>\n",
       "      <td>2022.02.15.</td>\n",
       "      <td>677</td>\n",
       "      <td>https://mois.go.kr/frt/bbs/type010/commonSelec...</td>\n",
       "    </tr>\n",
       "    <tr>\n",
       "      <th>2</th>\n",
       "      <td>12929</td>\n",
       "      <td>적극행정을 일상적 공직문화로 자리매김하여 국민이 현장에서 체감하는 성과를 창출하겠습니다</td>\n",
       "      <td>지역사회혁신정책과</td>\n",
       "      <td>2022.02.15.</td>\n",
       "      <td>557</td>\n",
       "      <td>https://mois.go.kr/frt/bbs/type010/commonSelec...</td>\n",
       "    </tr>\n",
       "    <tr>\n",
       "      <th>3</th>\n",
       "      <td>12928</td>\n",
       "      <td>'가명정보 결합전문기관 실무협의회' 출범</td>\n",
       "      <td>공공데이터정책과</td>\n",
       "      <td>2022.02.14.</td>\n",
       "      <td>647</td>\n",
       "      <td>https://mois.go.kr/frt/bbs/type010/commonSelec...</td>\n",
       "    </tr>\n",
       "    <tr>\n",
       "      <th>4</th>\n",
       "      <td>12927</td>\n",
       "      <td>코로나19로 지친 국민들에게 지방세 지원을 강화한다</td>\n",
       "      <td>지방세정책과</td>\n",
       "      <td>2022.02.14.</td>\n",
       "      <td>945</td>\n",
       "      <td>https://mois.go.kr/frt/bbs/type010/commonSelec...</td>\n",
       "    </tr>\n",
       "    <tr>\n",
       "      <th>5</th>\n",
       "      <td>12926</td>\n",
       "      <td>행정안전부 소통협력공간, 인구감소지역 최초 선정</td>\n",
       "      <td>지역사회혁신정책과</td>\n",
       "      <td>2022.02.13.</td>\n",
       "      <td>953</td>\n",
       "      <td>https://mois.go.kr/frt/bbs/type010/commonSelec...</td>\n",
       "    </tr>\n",
       "    <tr>\n",
       "      <th>6</th>\n",
       "      <td>12925</td>\n",
       "      <td>국민이 제안하고 풀어가는 민생규제 혁신과제 공모전 개최</td>\n",
       "      <td>지방규제혁신과</td>\n",
       "      <td>2022.02.13.</td>\n",
       "      <td>787</td>\n",
       "      <td>https://mois.go.kr/frt/bbs/type010/commonSelec...</td>\n",
       "    </tr>\n",
       "    <tr>\n",
       "      <th>7</th>\n",
       "      <td>12924</td>\n",
       "      <td>이제 스마트폰으로 주민등록증 확인 가능해진다... 4월 시범실시 예정</td>\n",
       "      <td>주민과</td>\n",
       "      <td>2022.02.10.</td>\n",
       "      <td>1760</td>\n",
       "      <td>https://mois.go.kr/frt/bbs/type010/commonSelec...</td>\n",
       "    </tr>\n",
       "    <tr>\n",
       "      <th>8</th>\n",
       "      <td>12923</td>\n",
       "      <td>스마트워크센터 밀집현상 해소를 위해 서울역 2호점 추가 개소</td>\n",
       "      <td>스마트행정기반과</td>\n",
       "      <td>2022.02.10.</td>\n",
       "      <td>1042</td>\n",
       "      <td>https://mois.go.kr/frt/bbs/type010/commonSelec...</td>\n",
       "    </tr>\n",
       "    <tr>\n",
       "      <th>9</th>\n",
       "      <td>12922</td>\n",
       "      <td>2022년 지방규제, 지역활력 제고에 초점 맞추기로</td>\n",
       "      <td>지방규제혁신과</td>\n",
       "      <td>2022.02.10.</td>\n",
       "      <td>1120</td>\n",
       "      <td>https://mois.go.kr/frt/bbs/type010/commonSelec...</td>\n",
       "    </tr>\n",
       "  </tbody>\n",
       "</table>\n",
       "</div>"
      ],
      "text/plain": [
       "      no                                             title     writer  \\\n",
       "0  12931                   사이버대학 성적·졸업증명서도 모바일 전자증명서로 발급한다    공공지능정책과   \n",
       "1  12930                  2022 지방행정혁신, 주민이 체감하는 확실한 변화 만든다  지역사회혁신정책과   \n",
       "2  12929  적극행정을 일상적 공직문화로 자리매김하여 국민이 현장에서 체감하는 성과를 창출하겠습니다  지역사회혁신정책과   \n",
       "3  12928                            '가명정보 결합전문기관 실무협의회' 출범   공공데이터정책과   \n",
       "4  12927                      코로나19로 지친 국민들에게 지방세 지원을 강화한다     지방세정책과   \n",
       "5  12926                        행정안전부 소통협력공간, 인구감소지역 최초 선정  지역사회혁신정책과   \n",
       "6  12925                    국민이 제안하고 풀어가는 민생규제 혁신과제 공모전 개최    지방규제혁신과   \n",
       "7  12924            이제 스마트폰으로 주민등록증 확인 가능해진다... 4월 시범실시 예정        주민과   \n",
       "8  12923                 스마트워크센터 밀집현상 해소를 위해 서울역 2호점 추가 개소   스마트행정기반과   \n",
       "9  12922                      2022년 지방규제, 지역활력 제고에 초점 맞추기로    지방규제혁신과   \n",
       "\n",
       "          data    pv                                               link  \n",
       "0  2022.02.15.   812  https://mois.go.kr/frt/bbs/type010/commonSelec...  \n",
       "1  2022.02.15.   677  https://mois.go.kr/frt/bbs/type010/commonSelec...  \n",
       "2  2022.02.15.   557  https://mois.go.kr/frt/bbs/type010/commonSelec...  \n",
       "3  2022.02.14.   647  https://mois.go.kr/frt/bbs/type010/commonSelec...  \n",
       "4  2022.02.14.   945  https://mois.go.kr/frt/bbs/type010/commonSelec...  \n",
       "5  2022.02.13.   953  https://mois.go.kr/frt/bbs/type010/commonSelec...  \n",
       "6  2022.02.13.   787  https://mois.go.kr/frt/bbs/type010/commonSelec...  \n",
       "7  2022.02.10.  1760  https://mois.go.kr/frt/bbs/type010/commonSelec...  \n",
       "8  2022.02.10.  1042  https://mois.go.kr/frt/bbs/type010/commonSelec...  \n",
       "9  2022.02.10.  1120  https://mois.go.kr/frt/bbs/type010/commonSelec...  "
      ]
     },
     "execution_count": 22,
     "metadata": {},
     "output_type": "execute_result"
    }
   ],
   "source": [
    "datas = []\n",
    "for element in elements:\n",
    "    datas.append(\n",
    "    {\n",
    "        \"no\" : element.select(\"td\")[0].text.strip(),\n",
    "        \"title\" : element.select(\"td\")[1].text.strip(),\n",
    "        \"writer\" : element.select(\"td\")[3].text.strip(),\n",
    "        \"data\" : element.select(\"td\")[4].text.strip(),\n",
    "        \"pv\" : element.select(\"td\")[5].text.strip(),\n",
    "        \"link\" : \"https://mois.go.kr\" + element.select(\"td\")[1].select_one(\"a\").get(\"href\"),\n",
    "    }\n",
    "    )\n",
    "df = pd.DataFrame(datas)\n",
    "df"
   ]
  },
  {
   "cell_type": "code",
   "execution_count": null,
   "id": "205577f0",
   "metadata": {},
   "outputs": [],
   "source": []
  },
  {
   "cell_type": "code",
   "execution_count": null,
   "id": "cf99f015",
   "metadata": {},
   "outputs": [],
   "source": [
    "# 4. function : params : page"
   ]
  },
  {
   "cell_type": "code",
   "execution_count": 23,
   "id": "2b27aafd",
   "metadata": {},
   "outputs": [],
   "source": [
    "def mois(page) :\n",
    "    url = \"https://mois.go.kr/frt/bbs/type010/commonSelectBoardList.do?bbsId=BBSMSTR_000000000008\"\n",
    "    params = {\n",
    "        \"nttId\": \"0\",\n",
    "        \"bbsTyCode\": \"BBST03\",\n",
    "        \"bbsAttrbCode\": \"BBSA03\",\n",
    "        \"authFlag\": \"Y\",\n",
    "        \"pageIndex\": page,\n",
    "        \"cal_url\": \"/sym/cal/EgovNormalCalPopup.do\",\n",
    "        \"searchCnd\": \"0\",\n",
    "    }\n",
    "    response = requests.post(url, params)\n",
    "    dom = BeautifulSoup(response.text, \"html.parser\")\n",
    "    elements = dom.select(\"#print_area > div.table_wrap.type_01 > form > table > tbody > tr\")\n",
    "    \n",
    "    datas = []\n",
    "    for element in elements:\n",
    "        datas.append(\n",
    "        {\n",
    "            \"no\" : element.select(\"td\")[0].text.strip(),\n",
    "            \"title\" : element.select(\"td\")[1].text.strip(),\n",
    "            \"writer\" : element.select(\"td\")[3].text.strip(),\n",
    "            \"data\" : element.select(\"td\")[4].text.strip(),\n",
    "            \"pv\" : element.select(\"td\")[5].text.strip(),\n",
    "            \"link\" : \"https://mois.go.kr\" + element.select(\"td\")[1].select_one(\"a\").get(\"href\"),\n",
    "        }\n",
    "        )\n",
    "    df = pd.DataFrame(datas)\n",
    "    return df"
   ]
  },
  {
   "cell_type": "code",
   "execution_count": 24,
   "id": "dc1bcb50",
   "metadata": {},
   "outputs": [
    {
     "data": {
      "text/html": [
       "<div>\n",
       "<style scoped>\n",
       "    .dataframe tbody tr th:only-of-type {\n",
       "        vertical-align: middle;\n",
       "    }\n",
       "\n",
       "    .dataframe tbody tr th {\n",
       "        vertical-align: top;\n",
       "    }\n",
       "\n",
       "    .dataframe thead th {\n",
       "        text-align: right;\n",
       "    }\n",
       "</style>\n",
       "<table border=\"1\" class=\"dataframe\">\n",
       "  <thead>\n",
       "    <tr style=\"text-align: right;\">\n",
       "      <th></th>\n",
       "      <th>no</th>\n",
       "      <th>title</th>\n",
       "      <th>writer</th>\n",
       "      <th>data</th>\n",
       "      <th>pv</th>\n",
       "      <th>link</th>\n",
       "    </tr>\n",
       "  </thead>\n",
       "  <tbody>\n",
       "    <tr>\n",
       "      <th>0</th>\n",
       "      <td>12941</td>\n",
       "      <td>코로나19 감염병 확산 대비 사회필수 기능 유지를 위한 기능연속성계획(BCP) 수립</td>\n",
       "      <td>예방안전과</td>\n",
       "      <td>2022.02.18.</td>\n",
       "      <td>1243</td>\n",
       "      <td>https://mois.go.kr/frt/bbs/type010/commonSelec...</td>\n",
       "    </tr>\n",
       "    <tr>\n",
       "      <th>1</th>\n",
       "      <td>12940</td>\n",
       "      <td>2022년도 정부청사 공무직 인사제도 이렇게 달라집니다</td>\n",
       "      <td>노사후생과</td>\n",
       "      <td>2022.02.17.</td>\n",
       "      <td>754</td>\n",
       "      <td>https://mois.go.kr/frt/bbs/type010/commonSelec...</td>\n",
       "    </tr>\n",
       "    <tr>\n",
       "      <th>2</th>\n",
       "      <td>12939</td>\n",
       "      <td>위급상황, 소화기·완강기·자동심장충격기 사용은 이렇게!</td>\n",
       "      <td>예방안전과</td>\n",
       "      <td>2022.02.17.</td>\n",
       "      <td>522</td>\n",
       "      <td>https://mois.go.kr/frt/bbs/type010/commonSelec...</td>\n",
       "    </tr>\n",
       "    <tr>\n",
       "      <th>3</th>\n",
       "      <td>12938</td>\n",
       "      <td>행정안전부 장관, 경북 영덕군 산불 관련 긴급지시</td>\n",
       "      <td>환경재난대응과</td>\n",
       "      <td>2022.02.16.</td>\n",
       "      <td>573</td>\n",
       "      <td>https://mois.go.kr/frt/bbs/type010/commonSelec...</td>\n",
       "    </tr>\n",
       "    <tr>\n",
       "      <th>4</th>\n",
       "      <td>12937</td>\n",
       "      <td>정부세종청사 관·군·경 통합방위태세 확립 훈련 실시</td>\n",
       "      <td>청사보안기획과</td>\n",
       "      <td>2022.02.16.</td>\n",
       "      <td>498</td>\n",
       "      <td>https://mois.go.kr/frt/bbs/type010/commonSelec...</td>\n",
       "    </tr>\n",
       "    <tr>\n",
       "      <th>5</th>\n",
       "      <td>12936</td>\n",
       "      <td>공공부문 클라우드 정책, 공공·민간이 함께 만든다</td>\n",
       "      <td>디지털자원정책과</td>\n",
       "      <td>2022.02.16.</td>\n",
       "      <td>743</td>\n",
       "      <td>https://mois.go.kr/frt/bbs/type010/commonSelec...</td>\n",
       "    </tr>\n",
       "    <tr>\n",
       "      <th>6</th>\n",
       "      <td>12935</td>\n",
       "      <td>경남청사관리소, 공무직 근로자와 노사화합의 첫 길을 열다</td>\n",
       "      <td>경남청사관리소</td>\n",
       "      <td>2022.02.16.</td>\n",
       "      <td>454</td>\n",
       "      <td>https://mois.go.kr/frt/bbs/type010/commonSelec...</td>\n",
       "    </tr>\n",
       "    <tr>\n",
       "      <th>7</th>\n",
       "      <td>12934</td>\n",
       "      <td>제20대 대통령선거 안전하고 공정하게 실시</td>\n",
       "      <td>선거의회자치법규과</td>\n",
       "      <td>2022.02.15.</td>\n",
       "      <td>653</td>\n",
       "      <td>https://mois.go.kr/frt/bbs/type010/commonSelec...</td>\n",
       "    </tr>\n",
       "    <tr>\n",
       "      <th>8</th>\n",
       "      <td>12933</td>\n",
       "      <td>김부겸 국무총리, 제20대 대통령 선거 대비 「공명선거 관계장관회의」 주재</td>\n",
       "      <td>선거의회자치법규과</td>\n",
       "      <td>2022.02.15.</td>\n",
       "      <td>509</td>\n",
       "      <td>https://mois.go.kr/frt/bbs/type010/commonSelec...</td>\n",
       "    </tr>\n",
       "    <tr>\n",
       "      <th>9</th>\n",
       "      <td>12932</td>\n",
       "      <td>정부청사, 청경 24시간 근무 폐지하는 단체협약 체결</td>\n",
       "      <td>청사보안기획과</td>\n",
       "      <td>2022.02.15.</td>\n",
       "      <td>573</td>\n",
       "      <td>https://mois.go.kr/frt/bbs/type010/commonSelec...</td>\n",
       "    </tr>\n",
       "  </tbody>\n",
       "</table>\n",
       "</div>"
      ],
      "text/plain": [
       "      no                                           title     writer  \\\n",
       "0  12941  코로나19 감염병 확산 대비 사회필수 기능 유지를 위한 기능연속성계획(BCP) 수립      예방안전과   \n",
       "1  12940                  2022년도 정부청사 공무직 인사제도 이렇게 달라집니다      노사후생과   \n",
       "2  12939                  위급상황, 소화기·완강기·자동심장충격기 사용은 이렇게!      예방안전과   \n",
       "3  12938                     행정안전부 장관, 경북 영덕군 산불 관련 긴급지시    환경재난대응과   \n",
       "4  12937                    정부세종청사 관·군·경 통합방위태세 확립 훈련 실시    청사보안기획과   \n",
       "5  12936                     공공부문 클라우드 정책, 공공·민간이 함께 만든다   디지털자원정책과   \n",
       "6  12935                 경남청사관리소, 공무직 근로자와 노사화합의 첫 길을 열다    경남청사관리소   \n",
       "7  12934                         제20대 대통령선거 안전하고 공정하게 실시  선거의회자치법규과   \n",
       "8  12933       김부겸 국무총리, 제20대 대통령 선거 대비 「공명선거 관계장관회의」 주재  선거의회자치법규과   \n",
       "9  12932                   정부청사, 청경 24시간 근무 폐지하는 단체협약 체결    청사보안기획과   \n",
       "\n",
       "          data    pv                                               link  \n",
       "0  2022.02.18.  1243  https://mois.go.kr/frt/bbs/type010/commonSelec...  \n",
       "1  2022.02.17.   754  https://mois.go.kr/frt/bbs/type010/commonSelec...  \n",
       "2  2022.02.17.   522  https://mois.go.kr/frt/bbs/type010/commonSelec...  \n",
       "3  2022.02.16.   573  https://mois.go.kr/frt/bbs/type010/commonSelec...  \n",
       "4  2022.02.16.   498  https://mois.go.kr/frt/bbs/type010/commonSelec...  \n",
       "5  2022.02.16.   743  https://mois.go.kr/frt/bbs/type010/commonSelec...  \n",
       "6  2022.02.16.   454  https://mois.go.kr/frt/bbs/type010/commonSelec...  \n",
       "7  2022.02.15.   653  https://mois.go.kr/frt/bbs/type010/commonSelec...  \n",
       "8  2022.02.15.   509  https://mois.go.kr/frt/bbs/type010/commonSelec...  \n",
       "9  2022.02.15.   573  https://mois.go.kr/frt/bbs/type010/commonSelec...  "
      ]
     },
     "execution_count": 24,
     "metadata": {},
     "output_type": "execute_result"
    }
   ],
   "source": [
    "mois(2)"
   ]
  },
  {
   "cell_type": "code",
   "execution_count": null,
   "id": "a859ae28",
   "metadata": {},
   "outputs": [],
   "source": [
    "# 5. 여러 페이지 데이터 수집"
   ]
  },
  {
   "cell_type": "code",
   "execution_count": 26,
   "id": "faab4b8c",
   "metadata": {},
   "outputs": [
    {
     "name": "stdout",
     "output_type": "stream",
     "text": [
      "1 2 3 "
     ]
    }
   ],
   "source": [
    "dfs = []\n",
    "for page in range(1,4):\n",
    "    print(page, end=\" \")\n",
    "    dfs.append(mois(page))"
   ]
  },
  {
   "cell_type": "code",
   "execution_count": 31,
   "id": "772732ec",
   "metadata": {},
   "outputs": [
    {
     "data": {
      "text/html": [
       "<div>\n",
       "<style scoped>\n",
       "    .dataframe tbody tr th:only-of-type {\n",
       "        vertical-align: middle;\n",
       "    }\n",
       "\n",
       "    .dataframe tbody tr th {\n",
       "        vertical-align: top;\n",
       "    }\n",
       "\n",
       "    .dataframe thead th {\n",
       "        text-align: right;\n",
       "    }\n",
       "</style>\n",
       "<table border=\"1\" class=\"dataframe\">\n",
       "  <thead>\n",
       "    <tr style=\"text-align: right;\">\n",
       "      <th></th>\n",
       "      <th>no</th>\n",
       "      <th>title</th>\n",
       "      <th>writer</th>\n",
       "      <th>data</th>\n",
       "      <th>pv</th>\n",
       "      <th>link</th>\n",
       "    </tr>\n",
       "  </thead>\n",
       "  <tbody>\n",
       "    <tr>\n",
       "      <th>28</th>\n",
       "      <td>12923</td>\n",
       "      <td>스마트워크센터 밀집현상 해소를 위해 서울역 2호점 추가 개소</td>\n",
       "      <td>스마트행정기반과</td>\n",
       "      <td>2022.02.10.</td>\n",
       "      <td>1044</td>\n",
       "      <td>https://mois.go.kr/frt/bbs/type010/commonSelec...</td>\n",
       "    </tr>\n",
       "    <tr>\n",
       "      <th>29</th>\n",
       "      <td>12922</td>\n",
       "      <td>2022년 지방규제, 지역활력 제고에 초점 맞추기로</td>\n",
       "      <td>지방규제혁신과</td>\n",
       "      <td>2022.02.10.</td>\n",
       "      <td>1122</td>\n",
       "      <td>https://mois.go.kr/frt/bbs/type010/commonSelec...</td>\n",
       "    </tr>\n",
       "  </tbody>\n",
       "</table>\n",
       "</div>"
      ],
      "text/plain": [
       "       no                              title    writer         data    pv  \\\n",
       "28  12923  스마트워크센터 밀집현상 해소를 위해 서울역 2호점 추가 개소  스마트행정기반과  2022.02.10.  1044   \n",
       "29  12922       2022년 지방규제, 지역활력 제고에 초점 맞추기로   지방규제혁신과  2022.02.10.  1122   \n",
       "\n",
       "                                                 link  \n",
       "28  https://mois.go.kr/frt/bbs/type010/commonSelec...  \n",
       "29  https://mois.go.kr/frt/bbs/type010/commonSelec...  "
      ]
     },
     "execution_count": 31,
     "metadata": {},
     "output_type": "execute_result"
    }
   ],
   "source": [
    "result_df = pd.concat(dfs, ignore_index=True)\n",
    "result_df.tail(2)"
   ]
  },
  {
   "cell_type": "code",
   "execution_count": null,
   "id": "ea356878",
   "metadata": {},
   "outputs": [],
   "source": []
  },
  {
   "cell_type": "code",
   "execution_count": null,
   "id": "d44fd7ac",
   "metadata": {},
   "outputs": [],
   "source": []
  },
  {
   "cell_type": "code",
   "execution_count": null,
   "id": "77ed295d",
   "metadata": {},
   "outputs": [],
   "source": []
  },
  {
   "cell_type": "code",
   "execution_count": null,
   "id": "59fc152e",
   "metadata": {},
   "outputs": [],
   "source": []
  },
  {
   "cell_type": "code",
   "execution_count": null,
   "id": "a7d9d893",
   "metadata": {},
   "outputs": [],
   "source": []
  },
  {
   "cell_type": "code",
   "execution_count": null,
   "id": "f3359544",
   "metadata": {},
   "outputs": [],
   "source": []
  },
  {
   "cell_type": "code",
   "execution_count": null,
   "id": "017e6f6f",
   "metadata": {},
   "outputs": [],
   "source": []
  },
  {
   "cell_type": "code",
   "execution_count": null,
   "id": "0ab50bd4",
   "metadata": {},
   "outputs": [],
   "source": []
  },
  {
   "cell_type": "code",
   "execution_count": null,
   "id": "f1c61c85",
   "metadata": {},
   "outputs": [],
   "source": []
  },
  {
   "cell_type": "code",
   "execution_count": null,
   "id": "bdd234a1",
   "metadata": {},
   "outputs": [],
   "source": []
  },
  {
   "cell_type": "code",
   "execution_count": null,
   "id": "2a26643d",
   "metadata": {},
   "outputs": [],
   "source": []
  },
  {
   "cell_type": "code",
   "execution_count": null,
   "id": "d5bcbd7f",
   "metadata": {},
   "outputs": [],
   "source": []
  },
  {
   "cell_type": "code",
   "execution_count": null,
   "id": "84eb651d",
   "metadata": {},
   "outputs": [],
   "source": []
  },
  {
   "cell_type": "code",
   "execution_count": null,
   "id": "a0c85cf6",
   "metadata": {},
   "outputs": [],
   "source": []
  },
  {
   "cell_type": "code",
   "execution_count": null,
   "id": "f17b8b21",
   "metadata": {},
   "outputs": [],
   "source": []
  }
 ],
 "metadata": {
  "kernelspec": {
   "display_name": "Python 3",
   "language": "python",
   "name": "python3"
  },
  "language_info": {
   "codemirror_mode": {
    "name": "ipython",
    "version": 3
   },
   "file_extension": ".py",
   "mimetype": "text/x-python",
   "name": "python",
   "nbconvert_exporter": "python",
   "pygments_lexer": "ipython3",
   "version": "3.8.8"
  }
 },
 "nbformat": 4,
 "nbformat_minor": 5
}
