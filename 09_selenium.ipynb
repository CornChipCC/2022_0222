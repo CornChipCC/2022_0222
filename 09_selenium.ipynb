{
 "cells": [
  {
   "cell_type": "markdown",
   "id": "e26b4f54",
   "metadata": {},
   "source": [
    "### 웹크롤링 방법\n",
    "- 동적 페이지 : json : response.json() : dict, list : DataFrame\n",
    "- 정적 페이지 : html : bs : css-selector : text : DataFrame\n",
    "- selenium을 이용한 크롤링\n",
    "    - 동적페이지, 정적페이지, API의 방법으로 데이터를 수집할 수 없을때 사용\n",
    "    - 파이썬 코드로 컨트롤 할 수 있는 자동화된 브라우져를 띄워서 크롤링할 페이지로 이동한 후에 브라우져에 있는 정보를 수집\n",
    "    - 웹서비스 테스트 자동화를 목적으로 만들어진 패키지, 다양한 언어로 사용 가능, 다양한 브라우져를 지원\n",
    "- 동적페이지(json, api) > 정적페이지(html) >>> selenium(browser)\n",
    "- 설정 : 크롬브라우져 설치 > 크롬 드라이버 다운로드, selenium 설치\n",
    "    - 패키지 인스톨 : !pip install selenium\n",
    "    - 크롬 드라이버 다운로드\n",
    "    - 압축해제\n",
    "    - 현재 디렉토리로 파일 이동"
   ]
  },
  {
   "cell_type": "code",
   "execution_count": 1,
   "id": "3ed1d774",
   "metadata": {},
   "outputs": [],
   "source": [
    "import pandas as pd\n",
    "from selenium import webdriver"
   ]
  },
  {
   "cell_type": "code",
   "execution_count": 2,
   "id": "52b3429c",
   "metadata": {},
   "outputs": [],
   "source": [
    "# 브라우져 열기"
   ]
  },
  {
   "cell_type": "code",
   "execution_count": 3,
   "id": "3a2c7cf6",
   "metadata": {},
   "outputs": [],
   "source": [
    "driver = webdriver.Chrome()"
   ]
  },
  {
   "cell_type": "code",
   "execution_count": 4,
   "id": "b5bfb88b",
   "metadata": {},
   "outputs": [],
   "source": [
    "# 페이지 이동"
   ]
  },
  {
   "cell_type": "code",
   "execution_count": 5,
   "id": "be12eb07",
   "metadata": {},
   "outputs": [],
   "source": [
    "driver.get(\"https://daum.net\")"
   ]
  },
  {
   "cell_type": "code",
   "execution_count": 6,
   "id": "c563d320",
   "metadata": {},
   "outputs": [],
   "source": [
    "# 브라우져 사이즈 조절"
   ]
  },
  {
   "cell_type": "code",
   "execution_count": 8,
   "id": "e85fde5e",
   "metadata": {},
   "outputs": [],
   "source": [
    "driver.set_window_size(900,1000)"
   ]
  },
  {
   "cell_type": "code",
   "execution_count": 11,
   "id": "1eb633ae",
   "metadata": {},
   "outputs": [],
   "source": [
    "# 브라우져 종료 : 메모리 100M 절약"
   ]
  },
  {
   "cell_type": "code",
   "execution_count": 12,
   "id": "e9e7b47d",
   "metadata": {},
   "outputs": [],
   "source": [
    "driver.quit()"
   ]
  },
  {
   "cell_type": "markdown",
   "id": "d2800b14",
   "metadata": {},
   "source": [
    "### ted사이트에서 영상 목록 데이터 수집"
   ]
  },
  {
   "cell_type": "code",
   "execution_count": 13,
   "id": "146b6370",
   "metadata": {},
   "outputs": [],
   "source": [
    "# 1. 브라우져 열기"
   ]
  },
  {
   "cell_type": "code",
   "execution_count": 17,
   "id": "a9341018",
   "metadata": {},
   "outputs": [],
   "source": [
    "driver = webdriver.Chrome()"
   ]
  },
  {
   "cell_type": "code",
   "execution_count": 18,
   "id": "c2a73151",
   "metadata": {},
   "outputs": [],
   "source": [
    "# 2. 테드 사이트로 이동하기"
   ]
  },
  {
   "cell_type": "code",
   "execution_count": 19,
   "id": "8e235c4c",
   "metadata": {},
   "outputs": [],
   "source": [
    "driver.get(\"https://www.ted.com/talks\")"
   ]
  },
  {
   "cell_type": "code",
   "execution_count": 15,
   "id": "d953e832",
   "metadata": {},
   "outputs": [],
   "source": [
    "# 3. 타이틀 문자열 데이터 수집하기"
   ]
  },
  {
   "cell_type": "code",
   "execution_count": 24,
   "id": "b7612a6d",
   "metadata": {},
   "outputs": [],
   "source": [
    "import warnings\n",
    "warnings.filterwarnings(\"ignore\")"
   ]
  },
  {
   "cell_type": "code",
   "execution_count": null,
   "id": "8da19b0b",
   "metadata": {},
   "outputs": [],
   "source": [
    "# select : driver.find_elements_by_css_selector\n",
    "# select_one : driver.find_element_by_css_selector"
   ]
  },
  {
   "cell_type": "code",
   "execution_count": 25,
   "id": "5e96086d",
   "metadata": {},
   "outputs": [
    {
     "data": {
      "text/plain": [
       "'Join TED Recommends to get the best ideas, selected just for you'"
      ]
     },
     "execution_count": 25,
     "metadata": {},
     "output_type": "execute_result"
    }
   ],
   "source": [
    "driver.find_element_by_css_selector(\"#banner-secondary\").text"
   ]
  },
  {
   "cell_type": "code",
   "execution_count": 26,
   "id": "33b4a5f6",
   "metadata": {},
   "outputs": [],
   "source": [
    "# 4. 영상의 제목 데이터 수집하기"
   ]
  },
  {
   "cell_type": "code",
   "execution_count": 27,
   "id": "3789a400",
   "metadata": {},
   "outputs": [],
   "source": [
    "# 여러개의 영상 elements 선택"
   ]
  },
  {
   "cell_type": "code",
   "execution_count": 30,
   "id": "05f241f2",
   "metadata": {},
   "outputs": [
    {
     "data": {
      "text/plain": [
       "36"
      ]
     },
     "execution_count": 30,
     "metadata": {},
     "output_type": "execute_result"
    }
   ],
   "source": [
    "selector = \"#browse-results > div.row > div\"\n",
    "elements = driver.find_elements_by_css_selector(selector)\n",
    "len(elements)"
   ]
  },
  {
   "cell_type": "code",
   "execution_count": null,
   "id": "6cded165",
   "metadata": {},
   "outputs": [],
   "source": [
    "# 하나의 element에서 필요한 데이터 수집"
   ]
  },
  {
   "cell_type": "code",
   "execution_count": null,
   "id": "39b0d4f9",
   "metadata": {},
   "outputs": [],
   "source": [
    "# bs : attr : .get(\"href\")\n",
    "# selenium : .get_attribute(\"href\")"
   ]
  },
  {
   "cell_type": "code",
   "execution_count": 34,
   "id": "e327d19b",
   "metadata": {},
   "outputs": [
    {
     "data": {
      "text/plain": [
       "{'title': 'Climate action needs new frontline leadership',\n",
       " 'link': 'https://www.ted.com/talks/ozawa_bineshi_albert_climate_action_needs_new_frontline_leadership'}"
      ]
     },
     "execution_count": 34,
     "metadata": {},
     "output_type": "execute_result"
    }
   ],
   "source": [
    "element = elements[0]\n",
    "data = {\n",
    "    \"title\" : element.find_element_by_css_selector(\"h4 >.ga-link\").text,\n",
    "    \"link\" : element.find_element_by_css_selector(\"h4 >.ga-link\").get_attribute(\"href\")\n",
    "}\n",
    "data"
   ]
  },
  {
   "cell_type": "code",
   "execution_count": 36,
   "id": "7809ab42",
   "metadata": {},
   "outputs": [
    {
     "name": "stdout",
     "output_type": "stream",
     "text": [
      "Wall time: 1.94 s\n"
     ]
    },
    {
     "data": {
      "text/html": [
       "<div>\n",
       "<style scoped>\n",
       "    .dataframe tbody tr th:only-of-type {\n",
       "        vertical-align: middle;\n",
       "    }\n",
       "\n",
       "    .dataframe tbody tr th {\n",
       "        vertical-align: top;\n",
       "    }\n",
       "\n",
       "    .dataframe thead th {\n",
       "        text-align: right;\n",
       "    }\n",
       "</style>\n",
       "<table border=\"1\" class=\"dataframe\">\n",
       "  <thead>\n",
       "    <tr style=\"text-align: right;\">\n",
       "      <th></th>\n",
       "      <th>title</th>\n",
       "      <th>link</th>\n",
       "    </tr>\n",
       "  </thead>\n",
       "  <tbody>\n",
       "    <tr>\n",
       "      <th>34</th>\n",
       "      <td>How to boost nature-based solutions to climate...</td>\n",
       "      <td>https://www.ted.com/talks/zac_goldsmith_how_to...</td>\n",
       "    </tr>\n",
       "    <tr>\n",
       "      <th>35</th>\n",
       "      <td>Which animal has the best eyesight?</td>\n",
       "      <td>https://www.ted.com/talks/thomas_w_cronin_whic...</td>\n",
       "    </tr>\n",
       "  </tbody>\n",
       "</table>\n",
       "</div>"
      ],
      "text/plain": [
       "                                                title  \\\n",
       "34  How to boost nature-based solutions to climate...   \n",
       "35                Which animal has the best eyesight?   \n",
       "\n",
       "                                                 link  \n",
       "34  https://www.ted.com/talks/zac_goldsmith_how_to...  \n",
       "35  https://www.ted.com/talks/thomas_w_cronin_whic...  "
      ]
     },
     "execution_count": 36,
     "metadata": {},
     "output_type": "execute_result"
    }
   ],
   "source": [
    "%%time\n",
    "datas = []\n",
    "for element in elements:\n",
    "    datas.append(\n",
    "    {\n",
    "        \"title\" : element.find_element_by_css_selector(\"h4 >.ga-link\").text,\n",
    "        \"link\" : element.find_element_by_css_selector(\"h4 >.ga-link\").get_attribute(\"href\")\n",
    "    }\n",
    "    )\n",
    "df = pd.DataFrame(datas)\n",
    "df.tail(2)"
   ]
  },
  {
   "cell_type": "code",
   "execution_count": 16,
   "id": "b8c97c83",
   "metadata": {},
   "outputs": [],
   "source": [
    "# 5. 셀렉트 박스의 한국어 클릭하기"
   ]
  },
  {
   "cell_type": "code",
   "execution_count": 38,
   "id": "602b8f17",
   "metadata": {},
   "outputs": [],
   "source": [
    "driver.find_element_by_css_selector('[lang=\"ko\"]').click()"
   ]
  },
  {
   "cell_type": "code",
   "execution_count": 39,
   "id": "e98d8988",
   "metadata": {},
   "outputs": [],
   "source": [
    "selector = \"#browse-results > div.row > div\"\n",
    "elements = driver.find_elements_by_css_selector(selector)"
   ]
  },
  {
   "cell_type": "code",
   "execution_count": 40,
   "id": "efec803c",
   "metadata": {},
   "outputs": [
    {
     "data": {
      "text/html": [
       "<div>\n",
       "<style scoped>\n",
       "    .dataframe tbody tr th:only-of-type {\n",
       "        vertical-align: middle;\n",
       "    }\n",
       "\n",
       "    .dataframe tbody tr th {\n",
       "        vertical-align: top;\n",
       "    }\n",
       "\n",
       "    .dataframe thead th {\n",
       "        text-align: right;\n",
       "    }\n",
       "</style>\n",
       "<table border=\"1\" class=\"dataframe\">\n",
       "  <thead>\n",
       "    <tr style=\"text-align: right;\">\n",
       "      <th></th>\n",
       "      <th>title</th>\n",
       "      <th>link</th>\n",
       "    </tr>\n",
       "  </thead>\n",
       "  <tbody>\n",
       "    <tr>\n",
       "      <th>34</th>\n",
       "      <td>자연의 요새: 선인장은 어떻게 수분을 유지하고 포식자를 쫓아내는가 - 루카스 C. ...</td>\n",
       "      <td>https://www.ted.com/talks/lucas_c_majure_natur...</td>\n",
       "    </tr>\n",
       "    <tr>\n",
       "      <th>35</th>\n",
       "      <td>슬픈 이야기를 재밌게 만드는 법 - 조디 홀스턴 라우</td>\n",
       "      <td>https://www.ted.com/talks/jodie_houlston_lau_h...</td>\n",
       "    </tr>\n",
       "  </tbody>\n",
       "</table>\n",
       "</div>"
      ],
      "text/plain": [
       "                                                title  \\\n",
       "34  자연의 요새: 선인장은 어떻게 수분을 유지하고 포식자를 쫓아내는가 - 루카스 C. ...   \n",
       "35                      슬픈 이야기를 재밌게 만드는 법 - 조디 홀스턴 라우   \n",
       "\n",
       "                                                 link  \n",
       "34  https://www.ted.com/talks/lucas_c_majure_natur...  \n",
       "35  https://www.ted.com/talks/jodie_houlston_lau_h...  "
      ]
     },
     "execution_count": 40,
     "metadata": {},
     "output_type": "execute_result"
    }
   ],
   "source": [
    "datas = []\n",
    "for element in elements:\n",
    "    datas.append(\n",
    "    {\n",
    "        \"title\" : element.find_element_by_css_selector(\"h4 >.ga-link\").text,\n",
    "        \"link\" : element.find_element_by_css_selector(\"h4 >.ga-link\").get_attribute(\"href\")\n",
    "    }\n",
    "    )\n",
    "df = pd.DataFrame(datas)\n",
    "df.tail(2)"
   ]
  },
  {
   "cell_type": "code",
   "execution_count": null,
   "id": "21d125ba",
   "metadata": {},
   "outputs": [],
   "source": [
    "# 페이지 이동"
   ]
  },
  {
   "cell_type": "code",
   "execution_count": 41,
   "id": "87aaaa64",
   "metadata": {},
   "outputs": [],
   "source": [
    "driver.get(\"https://daum.net\")"
   ]
  },
  {
   "cell_type": "code",
   "execution_count": 42,
   "id": "622e16fa",
   "metadata": {},
   "outputs": [],
   "source": [
    "driver.find_element_by_css_selector(\"#q\").send_keys(\"kt\")"
   ]
  },
  {
   "cell_type": "code",
   "execution_count": 44,
   "id": "c58f0eb9",
   "metadata": {},
   "outputs": [],
   "source": [
    "driver.find_element_by_css_selector(\".ico_pctop.btn_search\").click()"
   ]
  },
  {
   "cell_type": "code",
   "execution_count": null,
   "id": "396abd72",
   "metadata": {},
   "outputs": [],
   "source": [
    "# 6. 출력된 영상의 제목 데이터 수집하기"
   ]
  },
  {
   "cell_type": "code",
   "execution_count": null,
   "id": "f5eea9b2",
   "metadata": {},
   "outputs": [],
   "source": []
  },
  {
   "cell_type": "code",
   "execution_count": null,
   "id": "76f68ca7",
   "metadata": {},
   "outputs": [],
   "source": []
  },
  {
   "cell_type": "code",
   "execution_count": null,
   "id": "d6aa1aea",
   "metadata": {},
   "outputs": [],
   "source": []
  },
  {
   "cell_type": "code",
   "execution_count": null,
   "id": "43b383f6",
   "metadata": {},
   "outputs": [],
   "source": []
  },
  {
   "cell_type": "code",
   "execution_count": null,
   "id": "4f64ed8d",
   "metadata": {},
   "outputs": [],
   "source": []
  }
 ],
 "metadata": {
  "kernelspec": {
   "display_name": "Python 3",
   "language": "python",
   "name": "python3"
  },
  "language_info": {
   "codemirror_mode": {
    "name": "ipython",
    "version": 3
   },
   "file_extension": ".py",
   "mimetype": "text/x-python",
   "name": "python",
   "nbconvert_exporter": "python",
   "pygments_lexer": "ipython3",
   "version": "3.8.8"
  }
 },
 "nbformat": 4,
 "nbformat_minor": 5
}
