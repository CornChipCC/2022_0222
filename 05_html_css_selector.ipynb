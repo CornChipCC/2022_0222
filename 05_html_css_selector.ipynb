{
 "cells": [
  {
   "cell_type": "markdown",
   "id": "13577225",
   "metadata": {},
   "source": [
    "- 정적 페이지 : html\n",
    "    - 웹페이지 분석 : url\n",
    "    - request(url) > response(data) : data(html(str))\n",
    "    - data(html(str)) > parsing(bs(css-selector)) > text"
   ]
  },
  {
   "cell_type": "markdown",
   "id": "981f9a81",
   "metadata": {},
   "source": [
    "### HTML\n",
    "- 웹페이지에서 레이아웃, 문자열, 속성값 등등을 나타내는 문법 입니다.\n",
    "\n",
    "#### HTML의 구성요소\n",
    "- Document : 한 페이지 전체의 html code\n",
    "- Element : 하나의 레이아웃을 나타내는 단위\n",
    "- Tag : 레이아웃의 종류를 나타내는 단위 : 주로 시작태그와 끝태그가 있다.\n",
    "- Attribute : 속성값 : 시작태그에 포함 : 태그에서 특정 기능을 하는 값\n",
    "- Text : 시작태그와 끝태그 사이에 있는 문자열"
   ]
  },
  {
   "cell_type": "code",
   "execution_count": 3,
   "id": "08d7dc4f",
   "metadata": {},
   "outputs": [],
   "source": [
    "# html code에서 text를 가져오기 위해 엘리먼트를 선택해야 합니다.\n",
    "# 엘리먼트를 선택하는 문법이 css-slector\n",
    "# css-select를 사용할 수 있게 해주는 패키지가 bs"
   ]
  },
  {
   "cell_type": "code",
   "execution_count": 2,
   "id": "48ece57d",
   "metadata": {},
   "outputs": [
    {
     "data": {
      "text/html": [
       "<div>\n",
       "    <button class = \"btn no1\" value = \"1\"> click 1 </button>\n",
       "    <button class = \"btn no2\" value = \"2\"> click 2 </button>\n",
       "    <a href = \"http://google.com\" target=\"_blink\"> click!!! </a>\n",
       "</div>\n"
      ],
      "text/plain": [
       "<IPython.core.display.HTML object>"
      ]
     },
     "metadata": {},
     "output_type": "display_data"
    }
   ],
   "source": [
    "%%html\n",
    "<div>\n",
    "    <button class = \"btn no1\" value = \"1\"> click 1 </button>\n",
    "    <button class = \"btn no2\" value = \"2\"> click 2 </button>\n",
    "    <a href = \"http://google.com\" target=\"_blink\"> click!!! </a>\n",
    "</div>"
   ]
  },
  {
   "cell_type": "code",
   "execution_count": 4,
   "id": "ce7f5e30",
   "metadata": {},
   "outputs": [],
   "source": [
    "# p : 한줄의 문자열 출력"
   ]
  },
  {
   "cell_type": "code",
   "execution_count": 5,
   "id": "40df3619",
   "metadata": {},
   "outputs": [
    {
     "data": {
      "text/html": [
       "<p> kt 1 </p>\n",
       "<p> kt 2</p>\n"
      ],
      "text/plain": [
       "<IPython.core.display.HTML object>"
      ]
     },
     "metadata": {},
     "output_type": "display_data"
    }
   ],
   "source": [
    "%%html\n",
    "<p> kt 1 </p>\n",
    "<p> kt 2</p>"
   ]
  },
  {
   "cell_type": "code",
   "execution_count": 6,
   "id": "3d71fa22",
   "metadata": {},
   "outputs": [],
   "source": [
    "# span : 한불럭의 문자열 출력"
   ]
  },
  {
   "cell_type": "code",
   "execution_count": 7,
   "id": "85d8f5f9",
   "metadata": {},
   "outputs": [
    {
     "data": {
      "text/html": [
       "<span> kt 1 </span>\n",
       "<span> kt 2 </span>\n"
      ],
      "text/plain": [
       "<IPython.core.display.HTML object>"
      ]
     },
     "metadata": {},
     "output_type": "display_data"
    }
   ],
   "source": [
    "%%html\n",
    "<span> kt 1 </span>\n",
    "<span> kt 2 </span>"
   ]
  },
  {
   "cell_type": "code",
   "execution_count": 8,
   "id": "3c8322e9",
   "metadata": {},
   "outputs": [],
   "source": [
    "# div : 레이아웃(영역)을 출력"
   ]
  },
  {
   "cell_type": "code",
   "execution_count": 9,
   "id": "4ee45ada",
   "metadata": {},
   "outputs": [
    {
     "data": {
      "text/html": [
       "<div>\n",
       "    <p>kt1</p>\n",
       "    <p>kt2</p>\n",
       "</div>\n",
       "<div>\n",
       "    <span>kt3</span>\n",
       "</div>\n"
      ],
      "text/plain": [
       "<IPython.core.display.HTML object>"
      ]
     },
     "metadata": {},
     "output_type": "display_data"
    }
   ],
   "source": [
    "%%html\n",
    "<div>\n",
    "    <p>kt1</p>\n",
    "    <p>kt2</p>\n",
    "</div>\n",
    "<div>\n",
    "    <span>kt3</span>\n",
    "</div>\n"
   ]
  },
  {
   "cell_type": "code",
   "execution_count": 10,
   "id": "e9d3a3fa",
   "metadata": {},
   "outputs": [],
   "source": [
    "# table : 행과 열로 이루어진 데이터를 출력"
   ]
  },
  {
   "cell_type": "code",
   "execution_count": 13,
   "id": "5c4213be",
   "metadata": {},
   "outputs": [
    {
     "data": {
      "text/html": [
       "<table>\n",
       "    <caption> table </caption>\n",
       "    <thead>\n",
       "        <tr>\n",
       "            <th>column1</th>\n",
       "            <th>column2</th>\n",
       "        </tr>\n",
       "    </thead>\n",
       "\n",
       "    <tbody>\n",
       "       <tr>\n",
       "            <th>kt1</th>\n",
       "            <th>kt2</th>\n",
       "        </tr>\n",
       "        <tr>\n",
       "            <th>kt3</th>\n",
       "            <th>kt4</th>\n",
       "        </tr>\n",
       "    </tbody>\n",
       "</table>\n"
      ],
      "text/plain": [
       "<IPython.core.display.HTML object>"
      ]
     },
     "metadata": {},
     "output_type": "display_data"
    }
   ],
   "source": [
    "%%html\n",
    "<table>\n",
    "    <caption> table </caption>\n",
    "    <thead>\n",
    "        <tr>\n",
    "            <th>column1</th>\n",
    "            <th>column2</th>\n",
    "        </tr>\n",
    "    </thead>\n",
    "\n",
    "    <tbody>\n",
    "       <tr>\n",
    "            <th>kt1</th>\n",
    "            <th>kt2</th>\n",
    "        </tr>\n",
    "        <tr>\n",
    "            <th>kt3</th>\n",
    "            <th>kt4</th>\n",
    "        </tr>\n",
    "    </tbody>\n",
    "</table>"
   ]
  },
  {
   "cell_type": "code",
   "execution_count": 14,
   "id": "b9dbfe5c",
   "metadata": {},
   "outputs": [],
   "source": [
    "# ul, li : 리스트 문자열 출력"
   ]
  },
  {
   "cell_type": "code",
   "execution_count": 15,
   "id": "62966098",
   "metadata": {},
   "outputs": [
    {
     "data": {
      "text/html": [
       "<ul>\n",
       "    <li> kt1 </li>\n",
       "    <li> kt2 </li>\n",
       "</ul>\n"
      ],
      "text/plain": [
       "<IPython.core.display.HTML object>"
      ]
     },
     "metadata": {},
     "output_type": "display_data"
    }
   ],
   "source": [
    "%%html\n",
    "<ul>\n",
    "    <li> kt1 </li>\n",
    "    <li> kt2 </li>\n",
    "</ul>"
   ]
  },
  {
   "cell_type": "code",
   "execution_count": 16,
   "id": "0c3af876",
   "metadata": {},
   "outputs": [],
   "source": [
    "# a : 링크를 출력\n",
    "# target=\"_blink\" : 새로운 탭에서 띄우는 기능"
   ]
  },
  {
   "cell_type": "code",
   "execution_count": 18,
   "id": "2b573816",
   "metadata": {},
   "outputs": [
    {
     "data": {
      "text/html": [
       "<a href =\"http://naver.com\" target=\"_blink\"> move naver </a>\n"
      ],
      "text/plain": [
       "<IPython.core.display.HTML object>"
      ]
     },
     "metadata": {},
     "output_type": "display_data"
    }
   ],
   "source": [
    "%%html\n",
    "<a href =\"http://naver.com\" target=\"_blink\"> move naver </a>"
   ]
  },
  {
   "cell_type": "code",
   "execution_count": 19,
   "id": "f3d57f34",
   "metadata": {},
   "outputs": [],
   "source": [
    "# img : 이미지 출력"
   ]
  },
  {
   "cell_type": "code",
   "execution_count": 21,
   "id": "fec3351d",
   "metadata": {},
   "outputs": [
    {
     "data": {
      "text/html": [
       "<img src=\"https://cfm.kt.com/images/v2/layout/gnb-ktlogo.png\" alt = \"kt\">\n"
      ],
      "text/plain": [
       "<IPython.core.display.HTML object>"
      ]
     },
     "metadata": {},
     "output_type": "display_data"
    }
   ],
   "source": [
    "%%html\n",
    "<img src=\"https://cfm.kt.com/images/v2/layout/gnb-ktlogo.png\" alt = \"kt\">"
   ]
  },
  {
   "cell_type": "markdown",
   "id": "b31c44b4",
   "metadata": {},
   "source": [
    "### css selector\n",
    "- html element를 선택하기 위한 문법\n",
    "\n",
    "\n",
    "#### element를 선택하기 위한 방법들\n",
    "- tag\n",
    "- id\n",
    "- class\n",
    "- attr"
   ]
  },
  {
   "cell_type": "code",
   "execution_count": 22,
   "id": "65c61ee2",
   "metadata": {},
   "outputs": [],
   "source": [
    "# tag\n",
    "# css-selector : span : kt3 선택"
   ]
  },
  {
   "cell_type": "code",
   "execution_count": 23,
   "id": "7ac3ebf8",
   "metadata": {},
   "outputs": [
    {
     "data": {
      "text/html": [
       "<div> kt1</div>\n",
       "<p> kt 2</p>\n",
       "<span> kt 3</span>\n"
      ],
      "text/plain": [
       "<IPython.core.display.HTML object>"
      ]
     },
     "metadata": {},
     "output_type": "display_data"
    }
   ],
   "source": [
    "%%html\n",
    "<div> kt1</div>\n",
    "<p> kt 2</p>\n",
    "<span> kt 3</span>"
   ]
  },
  {
   "cell_type": "code",
   "execution_count": 24,
   "id": "677a4499",
   "metadata": {},
   "outputs": [],
   "source": [
    "# id : 한페이지에 같은 id 값을 사용하지 않습니다.\n",
    "# css-selector : #d2 : kt2 선택"
   ]
  },
  {
   "cell_type": "code",
   "execution_count": 26,
   "id": "dd0006e0",
   "metadata": {},
   "outputs": [
    {
     "data": {
      "text/html": [
       "<p id=\"d1\"> kt1 </p>\n",
       "<p id=\"d2\"> kt2 </p>\n",
       "<p id=\"d3\"> kt3</p>\n"
      ],
      "text/plain": [
       "<IPython.core.display.HTML object>"
      ]
     },
     "metadata": {},
     "output_type": "display_data"
    }
   ],
   "source": [
    "%%html\n",
    "<p id=\"d1\"> kt1 </p>\n",
    "<p id=\"d2\"> kt2 </p>\n",
    "<p id=\"d3\"> kt3</p>"
   ]
  },
  {
   "cell_type": "code",
   "execution_count": 28,
   "id": "96f7d2f7",
   "metadata": {},
   "outputs": [],
   "source": [
    "#class : 하나의 태그에 여러개의 값을 사용 할 수 있다.\n",
    "# 한페이지에서 동일한 값을 여러번 사용 할 수 있다.\n",
    "# css-selector : .txt : kt1, kt3 선택"
   ]
  },
  {
   "cell_type": "code",
   "execution_count": 31,
   "id": "486af4e1",
   "metadata": {},
   "outputs": [
    {
     "data": {
      "text/html": [
       "<p class=\"txt d1\"> kt1 </p>\n",
       "<p class=\"d2\"> kt2 </p>\n",
       "<p class=\"txt d3\"> kt3</p>\n"
      ],
      "text/plain": [
       "<IPython.core.display.HTML object>"
      ]
     },
     "metadata": {},
     "output_type": "display_data"
    }
   ],
   "source": [
    "%%html\n",
    "<p class=\"txt d1\"> kt1 </p>\n",
    "<p class=\"d2\"> kt2 </p>\n",
    "<p class=\"txt d3\"> kt3</p>"
   ]
  },
  {
   "cell_type": "code",
   "execution_count": 32,
   "id": "52216602",
   "metadata": {},
   "outputs": [],
   "source": [
    "# attr \n",
    "# css-selector : [value = \"no2\"] : kt2 선택"
   ]
  },
  {
   "cell_type": "code",
   "execution_count": 33,
   "id": "7c591112",
   "metadata": {},
   "outputs": [
    {
     "data": {
      "text/html": [
       "<p value = \"no1\"> kt1 </p>\n",
       "<p value = \"no2\"> kt2 </p>\n",
       "<p value = \"no3\"> kt3</p>\n"
      ],
      "text/plain": [
       "<IPython.core.display.HTML object>"
      ]
     },
     "metadata": {},
     "output_type": "display_data"
    }
   ],
   "source": [
    "%%html\n",
    "<p value = \"no1\"> kt1 </p>\n",
    "<p value = \"no2\"> kt2 </p>\n",
    "<p value = \"no3\"> kt3</p>"
   ]
  },
  {
   "cell_type": "code",
   "execution_count": 37,
   "id": "83a0b2e8",
   "metadata": {},
   "outputs": [],
   "source": [
    "# 계층적으로 엘리먼트 선택\n",
    "# css-selector : p : kt1, kt2\n",
    "\n",
    "# > : 한단계 하위 엘리먼트 선택\n",
    "# css-selector : .wrap > p : kt1\n",
    "# css-selector : .wrap > div > p : kt2\n",
    "\n",
    "# 공백 : 하위 엘리먼트 모두 선택\n",
    "# css-selector : .wrap p : kt1, kt2\n",
    "\n",
    "# span 태그이면서 no1 클래스를 가진 엘리먼트 선택\n",
    "# css-selector : span.no1 : kt3"
   ]
  },
  {
   "cell_type": "code",
   "execution_count": 38,
   "id": "ed717778",
   "metadata": {},
   "outputs": [
    {
     "data": {
      "text/html": [
       "<div class=\"wrap\">\n",
       "    <p class =\"no1\">kt1</p>\n",
       "    <div>\n",
       "        <p class = \"no1\">kt2</p>\n",
       "        <span class = \"no1\"> kt3 </span>\n",
       "    </div>\n",
       "</div>\n"
      ],
      "text/plain": [
       "<IPython.core.display.HTML object>"
      ]
     },
     "metadata": {},
     "output_type": "display_data"
    }
   ],
   "source": [
    "%%html\n",
    "<div class=\"wrap\">\n",
    "    <p class =\"no1\">kt1</p>\n",
    "    <div>\n",
    "        <p class = \"no1\">kt2</p>\n",
    "        <span class = \"no1\"> kt3 </span>\n",
    "    </div>\n",
    "</div>"
   ]
  },
  {
   "cell_type": "code",
   "execution_count": 39,
   "id": "20844eb8",
   "metadata": {},
   "outputs": [],
   "source": [
    "# nth-child(n) : n번째 엘리먼트 선택\n",
    "# css-selector : .wrap > p:nth-child(2) : kt2\n",
    "# css-selector : .wrap > p:nth-child(2), .wrap > p:nth-child(3) : kt2,kt3"
   ]
  },
  {
   "cell_type": "code",
   "execution_count": 40,
   "id": "1640db7e",
   "metadata": {},
   "outputs": [
    {
     "data": {
      "text/html": [
       "<div class =\"wrap\">\n",
       "    <p> kt1 </p>\n",
       "    <p> kt2 </p>\n",
       "    <p> kt3 </p>\n",
       "            \n",
       "</div>\n"
      ],
      "text/plain": [
       "<IPython.core.display.HTML object>"
      ]
     },
     "metadata": {},
     "output_type": "display_data"
    }
   ],
   "source": [
    "%%html\n",
    "<div class =\"wrap\">\n",
    "    <p> kt1 </p>\n",
    "    <p> kt2 </p>\n",
    "    <p> kt3 </p>\n",
    "            \n",
    "</div>"
   ]
  },
  {
   "cell_type": "code",
   "execution_count": null,
   "id": "7484438c",
   "metadata": {},
   "outputs": [],
   "source": [
    "# css-selector : .wrap > p:nth-child(2) : kt1"
   ]
  },
  {
   "cell_type": "code",
   "execution_count": 41,
   "id": "4e35a41e",
   "metadata": {},
   "outputs": [
    {
     "data": {
      "text/html": [
       "<div class =\"wrap\">\n",
       "    <span>kt0</span>\n",
       "    <p> kt1 </p>\n",
       "    <p> kt2 </p>\n",
       "    <p> kt3 </p>\n",
       "            \n",
       "</div>\n"
      ],
      "text/plain": [
       "<IPython.core.display.HTML object>"
      ]
     },
     "metadata": {},
     "output_type": "display_data"
    }
   ],
   "source": [
    "%%html\n",
    "<div class =\"wrap\">\n",
    "    <span>kt0</span>\n",
    "    <p> kt1 </p>\n",
    "    <p> kt2 </p>\n",
    "    <p> kt3 </p>\n",
    "            \n",
    "</div>"
   ]
  }
 ],
 "metadata": {
  "kernelspec": {
   "display_name": "Python 3",
   "language": "python",
   "name": "python3"
  },
  "language_info": {
   "codemirror_mode": {
    "name": "ipython",
    "version": 3
   },
   "file_extension": ".py",
   "mimetype": "text/x-python",
   "name": "python",
   "nbconvert_exporter": "python",
   "pygments_lexer": "ipython3",
   "version": "3.8.8"
  }
 },
 "nbformat": 4,
 "nbformat_minor": 5
}
